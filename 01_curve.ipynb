{
 "cells": [
  {
   "cell_type": "code",
   "execution_count": 1,
   "id": "0322c98b",
   "metadata": {
    "ExecuteTime": {
     "end_time": "2024-10-15T18:44:07.945161Z",
     "start_time": "2024-10-15T18:44:06.833759Z"
    }
   },
   "outputs": [],
   "source": [
    "from pathlib import Path\n",
    "from time import time\n",
    "\n",
    "import matplotlib.pyplot as plt\n",
    "import numpy as np\n",
    "import torch\n",
    "import torch.nn as nn\n",
    "from tqdm.notebook import trange\n",
    "\n",
    "from kgr import KGRModule"
   ]
  },
  {
   "cell_type": "code",
   "execution_count": 2,
   "id": "6b436357",
   "metadata": {
    "ExecuteTime": {
     "end_time": "2024-10-15T18:44:07.949012Z",
     "start_time": "2024-10-15T18:44:07.945729Z"
    }
   },
   "outputs": [],
   "source": [
    "# attempt to enable LaTeX rendering\n",
    "# change to `False` if you get an error during plotting (latex not installed)\n",
    "plt.rcParams['text.usetex'] = True"
   ]
  },
  {
   "cell_type": "code",
   "execution_count": 3,
   "id": "1deb815f",
   "metadata": {
    "ExecuteTime": {
     "end_time": "2024-10-15T18:44:07.952797Z",
     "start_time": "2024-10-15T18:44:07.949970Z"
    }
   },
   "outputs": [],
   "source": [
    "def default_init_to_he_uniform(model):\n",
    "    \"\"\" Change PyTorch's default initialization to He uniform \"\"\"\n",
    "    # PyTorch default uses 1/sqrt(m) as the bound\n",
    "    # He uniform uses sqrt(3)/sqrt(m) as the bound\n",
    "    sqrt3 = np.sqrt(3)\n",
    "    for layer in model.modules():\n",
    "        if isinstance(layer, torch.nn.Linear):\n",
    "            layer.weight.data *= sqrt3\n",
    "            layer.bias.data *= sqrt3\n",
    "\n",
    "\n",
    "class MLP(nn.Module):\n",
    "    \"\"\" MLP model \"\"\"\n",
    "\n",
    "    def __init__(self, input_size, hidden_size, num_hidden_layers=1, activation=torch.relu):\n",
    "        super(MLP, self).__init__()\n",
    "        self.input_layer = nn.Linear(input_size, hidden_size)\n",
    "        self.hidden_layers = nn.ModuleList(\n",
    "            [nn.Linear(hidden_size, hidden_size) for _ in range(num_hidden_layers)]\n",
    "        )\n",
    "        self.output_layer = nn.Linear(hidden_size, 1)\n",
    "        self.act = activation\n",
    "        default_init_to_he_uniform(self)\n",
    "\n",
    "    def forward(self, x):\n",
    "        x = self.input_layer(x)\n",
    "        x = self.act(x)\n",
    "        for layer in self.hidden_layers:\n",
    "            x = layer(x)\n",
    "            x = self.act(x)\n",
    "        x = self.output_layer(x)\n",
    "        return x"
   ]
  },
  {
   "cell_type": "markdown",
   "id": "12c74326",
   "metadata": {},
   "source": [
    "# Curve fitting\n",
    "\n",
    "## Target"
   ]
  },
  {
   "cell_type": "code",
   "execution_count": 4,
   "id": "b2ec6c4f",
   "metadata": {
    "ExecuteTime": {
     "end_time": "2024-10-15T18:44:08.357351Z",
     "start_time": "2024-10-15T18:44:07.953585Z"
    }
   },
   "outputs": [
    {
     "data": {
      "text/plain": "<Figure size 333.333x411.111 with 1 Axes>",
      "image/png": "[encoded data removed]"
     },
     "metadata": {},
     "output_type": "display_data"
    }
   ],
   "source": [
    "torch.set_default_dtype(torch.float32)\n",
    "\n",
    "\n",
    "def gaussian(x, mu, sigma, height):\n",
    "    \"\"\" Gaussian shape \"\"\"\n",
    "    exponent = -((x - mu) ** 2) / (2 * sigma ** 2)\n",
    "    return height * torch.exp(exponent)\n",
    "\n",
    "\n",
    "# ground truth\n",
    "x_in = torch.linspace(0, 1, 1000)\n",
    "y_true = torch.zeros_like(x_in)\n",
    "y_true += gaussian(x_in, 0.15, 0.005, 1)\n",
    "y_true -= gaussian(x_in, 0.34, 0.003, .8)\n",
    "y_true -= gaussian(x_in, 0.41, 0.003, .6)\n",
    "y_true += gaussian(x_in, 0.62, 0.004, 1.2)\n",
    "y_true += gaussian(x_in, 0.8, 0.002, 0.8)\n",
    "plt.figure(figsize=(3 / 1.8, 3.7 / 1.8), dpi=200)\n",
    "plt.plot(x_in, y_true, lw=1, c=\"k\")\n",
    "plt.xlim(0, 1)\n",
    "plt.savefig(\"figs/curve_target.pdf\", bbox_inches='tight', pad_inches=0.01)\n",
    "plt.show()"
   ]
  },
  {
   "cell_type": "markdown",
   "id": "441aa8e3",
   "metadata": {},
   "source": [
    "## Training"
   ]
  },
  {
   "cell_type": "code",
   "execution_count": 5,
   "id": "d4f15f40",
   "metadata": {
    "ExecuteTime": {
     "end_time": "2024-10-15T18:44:08.368927Z",
     "start_time": "2024-10-15T18:44:08.358474Z"
    }
   },
   "outputs": [],
   "source": [
    "def train(kgr, hidden_size, num_hidden_layers, seed, activation=torch.relu,\n",
    "          num_epochs=10000, log_loss_every=20, device=\"cpu\", pbar=True):\n",
    "    \"\"\" Train a model \"\"\"\n",
    "    torch.manual_seed(seed)\n",
    "    model = MLP(1, hidden_size=hidden_size, num_hidden_layers=num_hidden_layers,\n",
    "                activation=activation)\n",
    "    if kgr:\n",
    "        is_input_skewed = activation is not torch.nn.functional.tanh\n",
    "        model.input_layer = KGRModule(model.input_layer, is_input_skewed=is_input_skewed)\n",
    "        model.output_layer = KGRModule(model.output_layer, is_input_skewed=is_input_skewed)\n",
    "        for i_fc, fc in enumerate(model.hidden_layers):\n",
    "            model.hidden_layers[i_fc] = KGRModule(fc, is_input_skewed=is_input_skewed)\n",
    "    model.to(device)\n",
    "    model.train()\n",
    "    criterion = nn.MSELoss()\n",
    "    optimizer = torch.optim.Adam(model.parameters(), lr=0.001)\n",
    "\n",
    "    # training loop\n",
    "    loss_hist = []\n",
    "    x_in_ = x_in.unsqueeze(1).to(device)\n",
    "    y_true_ = y_true.unsqueeze(1).to(device)\n",
    "    for epoch in trange(num_epochs, disable=not pbar):\n",
    "        y_pred = model(x_in_)\n",
    "        loss = criterion(y_pred, y_true_)\n",
    "        optimizer.zero_grad()\n",
    "        loss.backward()\n",
    "        optimizer.step()\n",
    "        if (epoch + 1) % log_loss_every == 0:\n",
    "            loss_hist.append(loss.item())\n",
    "    return model, loss_hist"
   ]
  },
  {
   "cell_type": "code",
   "execution_count": 15,
   "id": "4036cdec",
   "metadata": {
    "ExecuteTime": {
     "end_time": "2024-10-15T21:03:30.440307Z",
     "start_time": "2024-10-15T21:03:30.008755Z"
    }
   },
   "outputs": [
    {
     "ename": "AssertionError",
     "evalue": "Torch not compiled with CUDA enabled",
     "output_type": "error",
     "traceback": [
      "\u001B[0;31m---------------------------------------------------------------------------\u001B[0m",
      "\u001B[0;31mAssertionError\u001B[0m                            Traceback (most recent call last)",
      "Cell \u001B[0;32mIn[15], line 32\u001B[0m\n\u001B[1;32m     30\u001B[0m \u001B[38;5;28;01mif\u001B[39;00m \u001B[38;5;129;01mnot\u001B[39;00m (out_dir \u001B[38;5;241m/\u001B[39m name_)\u001B[38;5;241m.\u001B[39mexists() \u001B[38;5;129;01mor\u001B[39;00m \u001B[38;5;28;01mTrue\u001B[39;00m:\n\u001B[1;32m     31\u001B[0m     t0 \u001B[38;5;241m=\u001B[39m time()\n\u001B[0;32m---> 32\u001B[0m     _, hist_ \u001B[38;5;241m=\u001B[39m \u001B[43mtrain\u001B[49m\u001B[43m(\u001B[49m\u001B[43mkgr_\u001B[49m\u001B[43m,\u001B[49m\u001B[43m \u001B[49m\u001B[43mhidden_size_\u001B[49m\u001B[43m,\u001B[49m\u001B[43m \u001B[49m\u001B[43mnum_hidden_layers_\u001B[49m\u001B[43m,\u001B[49m\u001B[43m \u001B[49m\u001B[43mseed_\u001B[49m\u001B[43m,\u001B[49m\u001B[43m \u001B[49m\u001B[43mact_\u001B[49m\u001B[43m,\u001B[49m\u001B[43m \u001B[49m\u001B[43mdevice\u001B[49m\u001B[38;5;241;43m=\u001B[39;49m\u001B[43mdevice_\u001B[49m\u001B[43m,\u001B[49m\n\u001B[1;32m     33\u001B[0m \u001B[43m                     \u001B[49m\u001B[43mnum_epochs\u001B[49m\u001B[38;5;241;43m=\u001B[39;49m\u001B[43mepochs\u001B[49m\u001B[43m,\u001B[49m\u001B[43m \u001B[49m\u001B[43mpbar\u001B[49m\u001B[38;5;241;43m=\u001B[39;49m\u001B[43mshow_pbar\u001B[49m\u001B[43m)\u001B[49m\n\u001B[1;32m     34\u001B[0m     np\u001B[38;5;241m.\u001B[39msavetxt(out_dir \u001B[38;5;241m/\u001B[39m name_, hist_)\n\u001B[1;32m     35\u001B[0m     \u001B[38;5;28mprint\u001B[39m(\u001B[38;5;124mf\u001B[39m\u001B[38;5;124m\"\u001B[39m\u001B[38;5;132;01m{\u001B[39;00mname_\u001B[38;5;132;01m}\u001B[39;00m\u001B[38;5;124m trained in \u001B[39m\u001B[38;5;132;01m{\u001B[39;00m(time()\u001B[38;5;250m \u001B[39m\u001B[38;5;241m-\u001B[39m\u001B[38;5;250m \u001B[39mt0)\u001B[38;5;250m \u001B[39m\u001B[38;5;241m/\u001B[39m\u001B[38;5;250m \u001B[39m\u001B[38;5;241m60\u001B[39m\u001B[38;5;132;01m:\u001B[39;00m\u001B[38;5;124m.1f\u001B[39m\u001B[38;5;132;01m}\u001B[39;00m\u001B[38;5;124m min, loss=\u001B[39m\u001B[38;5;132;01m{\u001B[39;00mhist_[\u001B[38;5;241m-\u001B[39m\u001B[38;5;241m1\u001B[39m]\u001B[38;5;132;01m:\u001B[39;00m\u001B[38;5;124m.2e\u001B[39m\u001B[38;5;132;01m}\u001B[39;00m\u001B[38;5;124m\"\u001B[39m)\n",
      "Cell \u001B[0;32mIn[5], line 13\u001B[0m, in \u001B[0;36mtrain\u001B[0;34m(kgr, hidden_size, num_hidden_layers, seed, activation, num_epochs, log_loss_every, device, pbar)\u001B[0m\n\u001B[1;32m     11\u001B[0m     \u001B[38;5;28;01mfor\u001B[39;00m i_fc, fc \u001B[38;5;129;01min\u001B[39;00m \u001B[38;5;28menumerate\u001B[39m(model\u001B[38;5;241m.\u001B[39mhidden_layers):\n\u001B[1;32m     12\u001B[0m         model\u001B[38;5;241m.\u001B[39mhidden_layers[i_fc] \u001B[38;5;241m=\u001B[39m KGRLayer(fc, is_input_skewed\u001B[38;5;241m=\u001B[39mis_input_skewed)\n\u001B[0;32m---> 13\u001B[0m \u001B[43mmodel\u001B[49m\u001B[38;5;241;43m.\u001B[39;49m\u001B[43mto\u001B[49m\u001B[43m(\u001B[49m\u001B[43mdevice\u001B[49m\u001B[43m)\u001B[49m\n\u001B[1;32m     14\u001B[0m model\u001B[38;5;241m.\u001B[39mtrain()\n\u001B[1;32m     15\u001B[0m criterion \u001B[38;5;241m=\u001B[39m nn\u001B[38;5;241m.\u001B[39mMSELoss()\n",
      "File \u001B[0;32m~/anaconda3/envs/dde/lib/python3.10/site-packages/torch/nn/modules/module.py:1173\u001B[0m, in \u001B[0;36mModule.to\u001B[0;34m(self, *args, **kwargs)\u001B[0m\n\u001B[1;32m   1170\u001B[0m         \u001B[38;5;28;01melse\u001B[39;00m:\n\u001B[1;32m   1171\u001B[0m             \u001B[38;5;28;01mraise\u001B[39;00m\n\u001B[0;32m-> 1173\u001B[0m \u001B[38;5;28;01mreturn\u001B[39;00m \u001B[38;5;28;43mself\u001B[39;49m\u001B[38;5;241;43m.\u001B[39;49m\u001B[43m_apply\u001B[49m\u001B[43m(\u001B[49m\u001B[43mconvert\u001B[49m\u001B[43m)\u001B[49m\n",
      "File \u001B[0;32m~/anaconda3/envs/dde/lib/python3.10/site-packages/torch/nn/modules/module.py:779\u001B[0m, in \u001B[0;36mModule._apply\u001B[0;34m(self, fn, recurse)\u001B[0m\n\u001B[1;32m    777\u001B[0m \u001B[38;5;28;01mif\u001B[39;00m recurse:\n\u001B[1;32m    778\u001B[0m     \u001B[38;5;28;01mfor\u001B[39;00m module \u001B[38;5;129;01min\u001B[39;00m \u001B[38;5;28mself\u001B[39m\u001B[38;5;241m.\u001B[39mchildren():\n\u001B[0;32m--> 779\u001B[0m         \u001B[43mmodule\u001B[49m\u001B[38;5;241;43m.\u001B[39;49m\u001B[43m_apply\u001B[49m\u001B[43m(\u001B[49m\u001B[43mfn\u001B[49m\u001B[43m)\u001B[49m\n\u001B[1;32m    781\u001B[0m \u001B[38;5;28;01mdef\u001B[39;00m \u001B[38;5;21mcompute_should_use_set_data\u001B[39m(tensor, tensor_applied):\n\u001B[1;32m    782\u001B[0m     \u001B[38;5;28;01mif\u001B[39;00m torch\u001B[38;5;241m.\u001B[39m_has_compatible_shallow_copy_type(tensor, tensor_applied):\n\u001B[1;32m    783\u001B[0m         \u001B[38;5;66;03m# If the new tensor has compatible tensor type as the existing tensor,\u001B[39;00m\n\u001B[1;32m    784\u001B[0m         \u001B[38;5;66;03m# the current behavior is to change the tensor in-place using `.data =`,\u001B[39;00m\n\u001B[0;32m   (...)\u001B[0m\n\u001B[1;32m    789\u001B[0m         \u001B[38;5;66;03m# global flag to let the user control whether they want the future\u001B[39;00m\n\u001B[1;32m    790\u001B[0m         \u001B[38;5;66;03m# behavior of overwriting the existing tensor or not.\u001B[39;00m\n",
      "File \u001B[0;32m~/anaconda3/envs/dde/lib/python3.10/site-packages/torch/nn/modules/module.py:779\u001B[0m, in \u001B[0;36mModule._apply\u001B[0;34m(self, fn, recurse)\u001B[0m\n\u001B[1;32m    777\u001B[0m \u001B[38;5;28;01mif\u001B[39;00m recurse:\n\u001B[1;32m    778\u001B[0m     \u001B[38;5;28;01mfor\u001B[39;00m module \u001B[38;5;129;01min\u001B[39;00m \u001B[38;5;28mself\u001B[39m\u001B[38;5;241m.\u001B[39mchildren():\n\u001B[0;32m--> 779\u001B[0m         \u001B[43mmodule\u001B[49m\u001B[38;5;241;43m.\u001B[39;49m\u001B[43m_apply\u001B[49m\u001B[43m(\u001B[49m\u001B[43mfn\u001B[49m\u001B[43m)\u001B[49m\n\u001B[1;32m    781\u001B[0m \u001B[38;5;28;01mdef\u001B[39;00m \u001B[38;5;21mcompute_should_use_set_data\u001B[39m(tensor, tensor_applied):\n\u001B[1;32m    782\u001B[0m     \u001B[38;5;28;01mif\u001B[39;00m torch\u001B[38;5;241m.\u001B[39m_has_compatible_shallow_copy_type(tensor, tensor_applied):\n\u001B[1;32m    783\u001B[0m         \u001B[38;5;66;03m# If the new tensor has compatible tensor type as the existing tensor,\u001B[39;00m\n\u001B[1;32m    784\u001B[0m         \u001B[38;5;66;03m# the current behavior is to change the tensor in-place using `.data =`,\u001B[39;00m\n\u001B[0;32m   (...)\u001B[0m\n\u001B[1;32m    789\u001B[0m         \u001B[38;5;66;03m# global flag to let the user control whether they want the future\u001B[39;00m\n\u001B[1;32m    790\u001B[0m         \u001B[38;5;66;03m# behavior of overwriting the existing tensor or not.\u001B[39;00m\n",
      "File \u001B[0;32m~/anaconda3/envs/dde/lib/python3.10/site-packages/torch/nn/modules/module.py:804\u001B[0m, in \u001B[0;36mModule._apply\u001B[0;34m(self, fn, recurse)\u001B[0m\n\u001B[1;32m    800\u001B[0m \u001B[38;5;66;03m# Tensors stored in modules are graph leaves, and we don't want to\u001B[39;00m\n\u001B[1;32m    801\u001B[0m \u001B[38;5;66;03m# track autograd history of `param_applied`, so we have to use\u001B[39;00m\n\u001B[1;32m    802\u001B[0m \u001B[38;5;66;03m# `with torch.no_grad():`\u001B[39;00m\n\u001B[1;32m    803\u001B[0m \u001B[38;5;28;01mwith\u001B[39;00m torch\u001B[38;5;241m.\u001B[39mno_grad():\n\u001B[0;32m--> 804\u001B[0m     param_applied \u001B[38;5;241m=\u001B[39m \u001B[43mfn\u001B[49m\u001B[43m(\u001B[49m\u001B[43mparam\u001B[49m\u001B[43m)\u001B[49m\n\u001B[1;32m    805\u001B[0m p_should_use_set_data \u001B[38;5;241m=\u001B[39m compute_should_use_set_data(param, param_applied)\n\u001B[1;32m    807\u001B[0m \u001B[38;5;66;03m# subclasses may have multiple child tensors so we need to use swap_tensors\u001B[39;00m\n",
      "File \u001B[0;32m~/anaconda3/envs/dde/lib/python3.10/site-packages/torch/nn/modules/module.py:1159\u001B[0m, in \u001B[0;36mModule.to.<locals>.convert\u001B[0;34m(t)\u001B[0m\n\u001B[1;32m   1152\u001B[0m     \u001B[38;5;28;01mif\u001B[39;00m convert_to_format \u001B[38;5;129;01mis\u001B[39;00m \u001B[38;5;129;01mnot\u001B[39;00m \u001B[38;5;28;01mNone\u001B[39;00m \u001B[38;5;129;01mand\u001B[39;00m t\u001B[38;5;241m.\u001B[39mdim() \u001B[38;5;129;01min\u001B[39;00m (\u001B[38;5;241m4\u001B[39m, \u001B[38;5;241m5\u001B[39m):\n\u001B[1;32m   1153\u001B[0m         \u001B[38;5;28;01mreturn\u001B[39;00m t\u001B[38;5;241m.\u001B[39mto(\n\u001B[1;32m   1154\u001B[0m             device,\n\u001B[1;32m   1155\u001B[0m             dtype \u001B[38;5;28;01mif\u001B[39;00m t\u001B[38;5;241m.\u001B[39mis_floating_point() \u001B[38;5;129;01mor\u001B[39;00m t\u001B[38;5;241m.\u001B[39mis_complex() \u001B[38;5;28;01melse\u001B[39;00m \u001B[38;5;28;01mNone\u001B[39;00m,\n\u001B[1;32m   1156\u001B[0m             non_blocking,\n\u001B[1;32m   1157\u001B[0m             memory_format\u001B[38;5;241m=\u001B[39mconvert_to_format,\n\u001B[1;32m   1158\u001B[0m         )\n\u001B[0;32m-> 1159\u001B[0m     \u001B[38;5;28;01mreturn\u001B[39;00m \u001B[43mt\u001B[49m\u001B[38;5;241;43m.\u001B[39;49m\u001B[43mto\u001B[49m\u001B[43m(\u001B[49m\n\u001B[1;32m   1160\u001B[0m \u001B[43m        \u001B[49m\u001B[43mdevice\u001B[49m\u001B[43m,\u001B[49m\n\u001B[1;32m   1161\u001B[0m \u001B[43m        \u001B[49m\u001B[43mdtype\u001B[49m\u001B[43m \u001B[49m\u001B[38;5;28;43;01mif\u001B[39;49;00m\u001B[43m \u001B[49m\u001B[43mt\u001B[49m\u001B[38;5;241;43m.\u001B[39;49m\u001B[43mis_floating_point\u001B[49m\u001B[43m(\u001B[49m\u001B[43m)\u001B[49m\u001B[43m \u001B[49m\u001B[38;5;129;43;01mor\u001B[39;49;00m\u001B[43m \u001B[49m\u001B[43mt\u001B[49m\u001B[38;5;241;43m.\u001B[39;49m\u001B[43mis_complex\u001B[49m\u001B[43m(\u001B[49m\u001B[43m)\u001B[49m\u001B[43m \u001B[49m\u001B[38;5;28;43;01melse\u001B[39;49;00m\u001B[43m \u001B[49m\u001B[38;5;28;43;01mNone\u001B[39;49;00m\u001B[43m,\u001B[49m\n\u001B[1;32m   1162\u001B[0m \u001B[43m        \u001B[49m\u001B[43mnon_blocking\u001B[49m\u001B[43m,\u001B[49m\n\u001B[1;32m   1163\u001B[0m \u001B[43m    \u001B[49m\u001B[43m)\u001B[49m\n\u001B[1;32m   1164\u001B[0m \u001B[38;5;28;01mexcept\u001B[39;00m \u001B[38;5;167;01mNotImplementedError\u001B[39;00m \u001B[38;5;28;01mas\u001B[39;00m e:\n\u001B[1;32m   1165\u001B[0m     \u001B[38;5;28;01mif\u001B[39;00m \u001B[38;5;28mstr\u001B[39m(e) \u001B[38;5;241m==\u001B[39m \u001B[38;5;124m\"\u001B[39m\u001B[38;5;124mCannot copy out of meta tensor; no data!\u001B[39m\u001B[38;5;124m\"\u001B[39m:\n",
      "File \u001B[0;32m~/anaconda3/envs/dde/lib/python3.10/site-packages/torch/cuda/__init__.py:284\u001B[0m, in \u001B[0;36m_lazy_init\u001B[0;34m()\u001B[0m\n\u001B[1;32m    279\u001B[0m     \u001B[38;5;28;01mraise\u001B[39;00m \u001B[38;5;167;01mRuntimeError\u001B[39;00m(\n\u001B[1;32m    280\u001B[0m         \u001B[38;5;124m\"\u001B[39m\u001B[38;5;124mCannot re-initialize CUDA in forked subprocess. To use CUDA with \u001B[39m\u001B[38;5;124m\"\u001B[39m\n\u001B[1;32m    281\u001B[0m         \u001B[38;5;124m\"\u001B[39m\u001B[38;5;124mmultiprocessing, you must use the \u001B[39m\u001B[38;5;124m'\u001B[39m\u001B[38;5;124mspawn\u001B[39m\u001B[38;5;124m'\u001B[39m\u001B[38;5;124m start method\u001B[39m\u001B[38;5;124m\"\u001B[39m\n\u001B[1;32m    282\u001B[0m     )\n\u001B[1;32m    283\u001B[0m \u001B[38;5;28;01mif\u001B[39;00m \u001B[38;5;129;01mnot\u001B[39;00m \u001B[38;5;28mhasattr\u001B[39m(torch\u001B[38;5;241m.\u001B[39m_C, \u001B[38;5;124m\"\u001B[39m\u001B[38;5;124m_cuda_getDeviceCount\u001B[39m\u001B[38;5;124m\"\u001B[39m):\n\u001B[0;32m--> 284\u001B[0m     \u001B[38;5;28;01mraise\u001B[39;00m \u001B[38;5;167;01mAssertionError\u001B[39;00m(\u001B[38;5;124m\"\u001B[39m\u001B[38;5;124mTorch not compiled with CUDA enabled\u001B[39m\u001B[38;5;124m\"\u001B[39m)\n\u001B[1;32m    285\u001B[0m \u001B[38;5;28;01mif\u001B[39;00m _cudart \u001B[38;5;129;01mis\u001B[39;00m \u001B[38;5;28;01mNone\u001B[39;00m:\n\u001B[1;32m    286\u001B[0m     \u001B[38;5;28;01mraise\u001B[39;00m \u001B[38;5;167;01mAssertionError\u001B[39;00m(\n\u001B[1;32m    287\u001B[0m         \u001B[38;5;124m\"\u001B[39m\u001B[38;5;124mlibcudart functions unavailable. It looks like you have a broken build?\u001B[39m\u001B[38;5;124m\"\u001B[39m\n\u001B[1;32m    288\u001B[0m     )\n",
      "\u001B[0;31mAssertionError\u001B[0m: Torch not compiled with CUDA enabled"
     ]
    }
   ],
   "source": [
    "# train all models\n",
    "reproduce_paper = False\n",
    "if reproduce_paper:\n",
    "    \"\"\" THIS WILL TAKE A LONG TIME TO TRAIN THE 10x10x4x2 MODELS \"\"\"\n",
    "    seeds = list(range(10))\n",
    "    nn_sizes = [(25, 1), (50, 1), (100, 1), (200, 1), (400, 1), (600, 1),\n",
    "                (25, 2), (25, 3), (25, 4), (25, 5)]\n",
    "    activations = [torch.nn.functional.relu, torch.nn.functional.leaky_relu,\n",
    "                   torch.nn.functional.gelu, torch.nn.functional.tanh]\n",
    "    epochs = 30000\n",
    "    device_ = \"cuda\"\n",
    "    out_dir = Path(\"results/curve_paper\")\n",
    "    show_pbar = False\n",
    "else:\n",
    "    seeds = [0]\n",
    "    nn_sizes = [(200, 1)]\n",
    "    activations = [torch.nn.functional.relu]\n",
    "    epochs = 10000\n",
    "    device_ = \"cpu\"\n",
    "    out_dir = Path(\"results/curve_test\")\n",
    "    show_pbar = True\n",
    "\n",
    "out_dir.mkdir(exist_ok=True, parents=True)\n",
    "for seed_ in seeds:\n",
    "    for act_ in activations:\n",
    "        for hidden_size_, num_hidden_layers_ in nn_sizes:\n",
    "            for kgr_ in [True]:\n",
    "                act_name_ = \"gelu\" if act_ is torch.nn.functional.gelu else str(act_).split(\" \")[1]\n",
    "                name_ = f\"{act_name_}_{seed_}_{hidden_size_}_{num_hidden_layers_}_{kgr_}\"\n",
    "                if not (out_dir / name_).exists() or True:\n",
    "                    t0 = time()\n",
    "                    _, hist_ = train(kgr_, hidden_size_, num_hidden_layers_, seed_, act_, device=device_,\n",
    "                                     num_epochs=epochs, pbar=show_pbar)\n",
    "                    np.savetxt(out_dir / name_, hist_)\n",
    "                    print(f\"{name_} trained in {(time() - t0) / 60:.1f} min, loss={hist_[-1]:.2e}\")\n",
    "                else:\n",
    "                    print(f\"{name_} exists\")"
   ]
  },
  {
   "cell_type": "code",
   "execution_count": 7,
   "id": "388db2a4",
   "metadata": {
    "ExecuteTime": {
     "end_time": "2024-10-15T18:44:43.916936Z",
     "start_time": "2024-10-15T18:44:43.480289Z"
    }
   },
   "outputs": [
    {
     "data": {
      "text/plain": "<Figure size 640x480 with 1 Axes>",
      "image/png": "[encoded data removed]"
     },
     "metadata": {},
     "output_type": "display_data"
    },
    {
     "ename": "AssertionError",
     "evalue": "",
     "output_type": "error",
     "traceback": [
      "\u001B[0;31m---------------------------------------------------------------------------\u001B[0m",
      "\u001B[0;31mAssertionError\u001B[0m                            Traceback (most recent call last)",
      "Cell \u001B[0;32mIn[7], line 8\u001B[0m\n\u001B[1;32m      5\u001B[0m plt\u001B[38;5;241m.\u001B[39mplot(hist_kgr)\n\u001B[1;32m      6\u001B[0m plt\u001B[38;5;241m.\u001B[39mshow()\n\u001B[0;32m----> 8\u001B[0m \u001B[38;5;28;01massert\u001B[39;00m \u001B[38;5;241m0\u001B[39m\n",
      "\u001B[0;31mAssertionError\u001B[0m: "
     ]
    }
   ],
   "source": [
    "# quick comparison\n",
    "hist_def = np.loadtxt(out_dir / \"relu_0_200_1_False\")\n",
    "hist_kgr = np.loadtxt(out_dir / \"relu_0_200_1_True\")\n",
    "plt.plot(hist_def)\n",
    "plt.plot(hist_kgr)\n",
    "plt.show()"
   ]
  },
  {
   "cell_type": "markdown",
   "id": "be9c2ece",
   "metadata": {},
   "source": [
    "## Analysis\n",
    "\n",
    "The following cells works only when `reproduce_paper` was set `True` for training."
   ]
  },
  {
   "cell_type": "code",
   "execution_count": null,
   "id": "3034a8fc",
   "metadata": {
    "ExecuteTime": {
     "start_time": "2024-10-15T18:44:43.909642Z"
    }
   },
   "outputs": [],
   "source": [
    "seeds = list(range(10))\n",
    "nn_sizes = [(25, 1), (50, 1), (100, 1), (200, 1), (400, 1), (600, 1),\n",
    "            (25, 2), (25, 3), (25, 4), (25, 5)]\n",
    "epochs = 30000\n",
    "out_dir = Path(\"results/curve_paper\")"
   ]
  },
  {
   "cell_type": "markdown",
   "id": "b47d0c7b-2251-44f4-b409-58901ee5b081",
   "metadata": {},
   "source": [
    "### Loss statistics"
   ]
  },
  {
   "cell_type": "code",
   "execution_count": null,
   "id": "a44b9168",
   "metadata": {
    "ExecuteTime": {
     "start_time": "2024-10-15T18:44:43.911031Z"
    }
   },
   "outputs": [],
   "source": [
    "def get_metrics(act_name, kgi):\n",
    "    min_loss_mean = []\n",
    "    min_loss_std = []\n",
    "    for hidden_size, num_hidden_layers in nn_sizes:\n",
    "        hists = []\n",
    "        for seed in seeds:\n",
    "            name = f\"{act_name}_{seed}_{hidden_size}_{num_hidden_layers}_{kgi}\"\n",
    "            hist = np.loadtxt(out_dir / name)\n",
    "            hists.append(hist)\n",
    "        hists = np.array(hists) * 1000\n",
    "        min_loss = np.mean(hists[:, -5:], axis=1)\n",
    "        min_loss = np.sort(min_loss)\n",
    "        min_loss_mean.append(min_loss[:-4].mean())\n",
    "        min_loss_std.append(min_loss[:-4].std())\n",
    "    return np.array(min_loss_mean), np.array(min_loss_std)\n",
    "\n",
    "\n",
    "fig, axes = plt.subplots(1, 4, figsize=(9, 1.6), dpi=200, sharex=True)\n",
    "plt.subplots_adjust(wspace=.22)\n",
    "for i, (act, act_str) in enumerate(zip([\"relu\", \"leaky_relu\", \"gelu\", \"tanh\"],\n",
    "                                       [\"ReLU\", \"LeakyReLU\", \"GELU\", \"Tanh\"])):\n",
    "    min_mean_def, min_std_def = get_metrics(act, False)\n",
    "    min_mean_kgi, min_std_kgi = get_metrics(act, True)\n",
    "    x_fake = range(len(min_mean_def))\n",
    "    axes[i].errorbar(x_fake, min_mean_def, min_std_def, fmt=\"o\",\n",
    "                     markersize=3, capsize=2, capthick=1, elinewidth=1, label=\"No KGI\", c=\"b\")\n",
    "    axes[i].errorbar(x_fake, min_mean_kgi, min_std_def, fmt=\"s\",\n",
    "                     markersize=3, capsize=2, capthick=1, elinewidth=1, label=\"KGI\", c=\"r\")\n",
    "    axes[i].set_xticks(x_fake, [\"25,1\", \"50,1\", \"100,1\", \"200,1\", \"400,1\", \"600,1\",\n",
    "                                \"25,2\", \"25,3\", \"25,4\", \"25,5\"])\n",
    "    for label in axes[i].get_xticklabels():\n",
    "        label.set_rotation(90)\n",
    "    axes[i].set_xlabel(\"Width $W$, Depth $D$\")\n",
    "    axes[i].text(.5, 1.03, f\"$\\sigma$: {act_str}\", va=\"bottom\", ha=\"center\",\n",
    "                 transform=axes[i].transAxes)\n",
    "\n",
    "axes[0].set_ylabel(\"MSE ($10^{-3}$)\")\n",
    "axes[0].legend()\n",
    "axes[1].set_yticks([0, 5, 10])\n",
    "axes[2].set_yticks([0, 5, 10])\n",
    "axes[3].set_yticks([0, 1])\n",
    "plt.savefig(\"figs/curve_loss_WD.pdf\", bbox_inches='tight', pad_inches=0.01)\n",
    "plt.show()"
   ]
  },
  {
   "cell_type": "markdown",
   "id": "aa914009-d576-4847-993e-c0cdbbfe66a9",
   "metadata": {},
   "source": [
    "### Loss history"
   ]
  },
  {
   "cell_type": "code",
   "execution_count": null,
   "id": "aa2c577b",
   "metadata": {
    "ExecuteTime": {
     "start_time": "2024-10-15T18:44:43.912349Z"
    }
   },
   "outputs": [],
   "source": [
    "def moving_ave(series, window_size):\n",
    "    \"\"\" Moving average to smooth the loss history a little bit \"\"\"\n",
    "    return np.convolve(series, np.ones(window_size) / window_size, mode='valid')\n",
    "\n",
    "\n",
    "for act in [\"relu\", \"leaky_relu\", \"gelu\", \"tanh\"]:\n",
    "    _, axes = plt.subplots(2, 5, sharex=True, sharey=True, figsize=(9, 2.5), dpi=200)\n",
    "    plt.subplots_adjust(wspace=.15)\n",
    "    for i, (hidden_size_, num_hidden_layers_) in enumerate(nn_sizes):\n",
    "        seed_ = 0\n",
    "        hist_def = np.loadtxt(out_dir / f\"{act}_{seed_}_{hidden_size_}_{num_hidden_layers_}_{False}\")\n",
    "        hist_kgi = np.loadtxt(out_dir / f\"{act}_{seed_}_{hidden_size_}_{num_hidden_layers_}_{True}\")\n",
    "        ax = axes[i // 5, i % 5]\n",
    "        p = 5\n",
    "        ax.plot(np.arange(epochs // 20 - p // 2 - 2), moving_ave(hist_def, p) * 1000, label=\"No KGI\", lw=1, c='b')\n",
    "        ax.plot(np.arange(epochs // 20 - p // 2 - 2), moving_ave(hist_kgi, p) * 1000, label=\"KGI\", lw=1, c='r')\n",
    "        ax.text(.5, .92, f\"$W={hidden_size_}$\", va=\"top\", ha=\"left\", transform=ax.transAxes)\n",
    "        ax.text(.5, .78, f\"$D={num_hidden_layers_}$\", va=\"top\", ha=\"left\", transform=ax.transAxes)\n",
    "\n",
    "    axes[0, 0].set_ylim(-3, 30)\n",
    "    for i in range(2):\n",
    "        axes[i, 0].set_ylabel(\"MSE ($10^{-3}$)\")\n",
    "        axes[i, 0].set_yticks([0, 10, 20, 30])\n",
    "    for i in range(5):\n",
    "        axes[1, i].set_xlabel(\"Epoch ($10^3$)\")\n",
    "        axes[1, i].set_xticks([0, 10000 // 20, 20000 // 20, 30000 // 20], [0, 10, 20, 30])\n",
    "    if act == \"relu\":\n",
    "        axes[0, 1].legend(ncol=2, loc=[0.03, 0.04], handlelength=.8, columnspacing=.5, handletextpad=.4)\n",
    "    plt.savefig(f\"figs/curve_loss_epoch_{act}.pdf\", bbox_inches='tight', pad_inches=0.01)\n",
    "    plt.show()"
   ]
  },
  {
   "cell_type": "markdown",
   "id": "20d692e3",
   "metadata": {},
   "source": [
    "## Animate training\n",
    "\n",
    "Now we zoom into the convergence process. Make sure you have `ffmpeg` installed."
   ]
  },
  {
   "cell_type": "code",
   "execution_count": 8,
   "outputs": [],
   "source": [
    "def find_knots(y, dx, threshold=1e-11):\n",
    "    \"\"\" Find indices of knots in a curve \"\"\"\n",
    "    if len(y) < 2:\n",
    "        return []\n",
    "    # calculate the slopes between consecutive points\n",
    "    slopes = (y[1:] - y[:-1]) / dx\n",
    "    # find where the slopes change\n",
    "    slope_changes = torch.abs(torch.diff(slopes))\n",
    "    knots = torch.where(slope_changes > threshold)[0] + 1  # noqa\n",
    "    return knots.tolist()"
   ],
   "metadata": {
    "collapsed": false,
    "ExecuteTime": {
     "end_time": "2024-10-15T20:09:26.444065Z",
     "start_time": "2024-10-15T20:09:26.428646Z"
    }
   },
   "id": "62b9803802e99b4d"
  },
  {
   "cell_type": "code",
   "execution_count": 10,
   "id": "bddc4fc8",
   "metadata": {
    "ExecuteTime": {
     "end_time": "2024-10-15T20:11:01.848137Z",
     "start_time": "2024-10-15T20:11:01.840420Z"
    }
   },
   "outputs": [],
   "source": [
    "def train_animate(kgr, hidden_size, num_hidden_layers, seed, activation=torch.relu,\n",
    "                  num_epochs=50000, plot_every=20, device=\"cpu\", pbar=True):\n",
    "    \"\"\" Animate training \"\"\"\n",
    "    torch.manual_seed(seed)\n",
    "    model = MLP(1, hidden_size, num_hidden_layers, activation)\n",
    "    if kgr:\n",
    "        is_input_skewed = activation is not torch.nn.functional.tanh\n",
    "        model.input_layer = KGRModule(model.input_layer, is_input_skewed=is_input_skewed)\n",
    "        model.output_layer = KGRModule(model.output_layer, is_input_skewed=is_input_skewed)\n",
    "        for i_fc, fc in enumerate(model.hidden_layers):\n",
    "            model.hidden_layers[i_fc] = KGRModule(fc, is_input_skewed=is_input_skewed)\n",
    "    model.to(device)\n",
    "    model.train()\n",
    "    criterion = nn.MSELoss()\n",
    "    optimizer = torch.optim.Adam(model.parameters(), lr=0.001)\n",
    "\n",
    "    # output\n",
    "    out = Path(\"results/curve_animation\")\n",
    "    out.mkdir(exist_ok=True, parents=True)\n",
    "\n",
    "    # training loop\n",
    "    x_in_ = x_in.unsqueeze(1).to(device)\n",
    "    y_true_ = y_true.unsqueeze(1).to(device)\n",
    "    for epoch in trange(num_epochs, disable=not pbar):\n",
    "        y_pred = model(x_in_)\n",
    "        loss = criterion(y_pred, y_true_)\n",
    "        optimizer.zero_grad()\n",
    "        loss.backward()\n",
    "        optimizer.step()\n",
    "\n",
    "        # plot a snapshot\n",
    "        if (epoch + 1) % plot_every == 0 or epoch == 0:\n",
    "            plt.figure(dpi=200)\n",
    "            plt.plot(x_in, y_true, c='gray', lw=0.5)\n",
    "            y_pred = y_pred.squeeze(1).detach().cpu()\n",
    "            knots = find_knots(y_pred, x_in[1] - x_in[0], threshold=1e-3)\n",
    "            plt.plot(x_in, y_pred, c='b', lw=1)\n",
    "            plt.scatter(x_in[knots], y_pred[knots], marker=\"|\", s=200, lw=1, c='r')\n",
    "            plt.gca().axis(\"off\")\n",
    "            plt.text(0.6, 0.24, \"KGR\" if kgr else \"No KGR\", transform=plt.gca().transAxes, fontsize=16)\n",
    "            plt.text(0.6, 0.17, f\"Epoch = {epoch + 1}\", transform=plt.gca().transAxes, fontsize=16)\n",
    "            plt.text(0.6, 0.1, f\"Loss = {loss.item():.1e}\", transform=plt.gca().transAxes, fontsize=16)\n",
    "            plt.savefig(out / f\"{'KGR' if kgr else 'No_KGR'}_{(epoch + 1) // plot_every + 1}.png\",\n",
    "                        bbox_inches='tight', pad_inches=0.01)\n",
    "            plt.close()"
   ]
  },
  {
   "cell_type": "code",
   "execution_count": 14,
   "id": "fb4a864f",
   "metadata": {
    "ExecuteTime": {
     "end_time": "2024-10-15T21:01:39.736471Z",
     "start_time": "2024-10-15T21:01:18.832763Z"
    }
   },
   "outputs": [
    {
     "name": "stdout",
     "output_type": "stream",
     "text": [
      "ffmpeg version 4.2.2 Copyright (c) 2000-2019 the FFmpeg developers\r\n",
      "  built with clang version 12.0.0\r\n",
      "  configuration: --prefix=/Users/ktietz/demo/mc3/conda-bld/ffmpeg_1628925491858/_h_env_placehold_placehold_placehold_placehold_placehold_placehold_placehold_placehold_placehold_placehold_placehold_placehold_placehold_placehold_placehold_placehold_placehold_placehold_placehold_plac --cc=arm64-apple-darwin20.0.0-clang --disable-doc --enable-avresample --enable-gmp --enable-hardcoded-tables --enable-libfreetype --enable-libvpx --enable-pthreads --enable-libopus --enable-postproc --enable-pic --enable-pthreads --enable-shared --enable-static --enable-version3 --enable-zlib --enable-libmp3lame --disable-nonfree --enable-gpl --enable-gnutls --disable-openssl --enable-libopenh264 --enable-libx264\r\n",
      "  libavutil      56. 31.100 / 56. 31.100\r\n",
      "  libavcodec     58. 54.100 / 58. 54.100\r\n",
      "  libavformat    58. 29.100 / 58. 29.100\r\n",
      "  libavdevice    58.  8.100 / 58.  8.100\r\n",
      "  libavfilter     7. 57.100 /  7. 57.100\r\n",
      "  libavresample   4.  0.  0 /  4.  0.  0\r\n",
      "  libswscale      5.  5.100 /  5.  5.100\r\n",
      "  libswresample   3.  5.100 /  3.  5.100\r\n",
      "  libpostproc    55.  5.100 / 55.  5.100\r\n",
      "Input #0, image2, from 'results/curve_animation/No_KGR_%d.png':\r\n",
      "  Duration: 00:01:40.04, start: 0.000000, bitrate: N/A\r\n",
      "    Stream #0:0: Video: png, rgba(pc), 995x743 [SAR 7874:7874 DAR 995:743], 25 fps, 25 tbr, 25 tbn, 25 tbc\r\n",
      "Stream mapping:\r\n",
      "  Stream #0:0 -> #0:0 (png (native) -> h264 (libx264))\r\n",
      "Press [q] to stop, [?] for help\r\n",
      "\u001B[1;36m[libx264 @ 0x125008e00] \u001B[0musing SAR=2930/2931\r\n",
      "\u001B[1;36m[libx264 @ 0x125008e00] \u001B[0musing cpu capabilities: ARMv8 NEON\r\n",
      "\u001B[1;36m[libx264 @ 0x125008e00] \u001B[0mprofile High, level 3.1\r\n",
      "\u001B[1;36m[libx264 @ 0x125008e00] \u001B[0m264 - core 152 - H.264/MPEG-4 AVC codec - Copyleft 2003-2017 - http://www.videolan.org/x264.html - options: cabac=1 ref=3 deblock=1:0:0 analyse=0x3:0x113 me=hex subme=7 psy=1 psy_rd=1.00:0.00 mixed_ref=1 me_range=16 chroma_me=1 trellis=1 8x8dct=1 cqm=0 deadzone=21,11 fast_pskip=1 chroma_qp_offset=-2 threads=12 lookahead_threads=2 sliced_threads=0 nr=0 decimate=1 interlaced=0 bluray_compat=0 constrained_intra=0 bframes=3 b_pyramid=2 b_adapt=1 b_bias=0 direct=1 weightb=1 open_gop=0 weightp=2 keyint=250 keyint_min=25 scenecut=40 intra_refresh=0 rc_lookahead=40 rc=crf mbtree=1 crf=23.0 qcomp=0.60 qpmin=0 qpmax=69 qpstep=4 ip_ratio=1.40 aq=1:1.00\r\n",
      "Output #0, mp4, to 'figs/No_KGR.mp4':\r\n",
      "  Metadata:\r\n",
      "    encoder         : Lavf58.29.100\r\n",
      "    Stream #0:0: Video: h264 (libx264) (avc1 / 0x31637661), yuv420p, 994x742 [SAR 52735:52753 DAR 995:743], q=-1--1, 25 fps, 12800 tbn, 25 tbc\r\n",
      "    Metadata:\r\n",
      "      encoder         : Lavc58.54.100 libx264\r\n",
      "    Side data:\r\n",
      "      cpb: bitrate max/min/avg: 0/0/0 buffer size: 0 vbv_delay: -1\r\n",
      "frame= 2501 fps=236 q=-1.0 Lsize=   10654kB time=00:01:39.92 bitrate= 873.5kbits/s speed=9.42x    \r\n",
      "video:10624kB audio:0kB subtitle:0kB other streams:0kB global headers:0kB muxing overhead: 0.284239%\r\n",
      "\u001B[1;36m[libx264 @ 0x125008e00] \u001B[0mframe I:11    Avg QP:18.03  size: 18161\r\n",
      "\u001B[1;36m[libx264 @ 0x125008e00] \u001B[0mframe P:636   Avg QP:25.58  size:  5346\r\n",
      "\u001B[1;36m[libx264 @ 0x125008e00] \u001B[0mframe B:1854  Avg QP:28.62  size:  3926\r\n",
      "\u001B[1;36m[libx264 @ 0x125008e00] \u001B[0mconsecutive B-frames:  1.0%  0.4%  0.6% 98.0%\r\n",
      "\u001B[1;36m[libx264 @ 0x125008e00] \u001B[0mmb I  I16..4: 24.5% 61.0% 14.6%\r\n",
      "\u001B[1;36m[libx264 @ 0x125008e00] \u001B[0mmb P  I16..4:  0.4%  1.1%  1.0%  P16..4:  5.5%  3.6%  1.8%  0.0%  0.0%    skip:86.6%\r\n",
      "\u001B[1;36m[libx264 @ 0x125008e00] \u001B[0mmb B  I16..4:  0.3%  0.3%  0.6%  B16..8:  5.9%  3.5%  1.1%  direct: 0.4%  skip:88.0%  L0:53.2% L1:42.6% BI: 4.2%\r\n",
      "\u001B[1;36m[libx264 @ 0x125008e00] \u001B[0m8x8 transform intra:39.8% inter:31.4%\r\n",
      "\u001B[1;36m[libx264 @ 0x125008e00] \u001B[0mcoded y,uvDC,uvAC intra: 33.0% 48.9% 46.8% inter: 2.6% 4.5% 4.0%\r\n",
      "\u001B[1;36m[libx264 @ 0x125008e00] \u001B[0mi16 v,h,dc,p: 44% 53%  3%  0%\r\n",
      "\u001B[1;36m[libx264 @ 0x125008e00] \u001B[0mi8 v,h,dc,ddl,ddr,vr,hd,vl,hu: 30%  5% 64%  0%  0%  0%  0%  0%  0%\r\n",
      "\u001B[1;36m[libx264 @ 0x125008e00] \u001B[0mi4 v,h,dc,ddl,ddr,vr,hd,vl,hu: 54% 25% 13%  1%  1%  1%  1%  1%  2%\r\n",
      "\u001B[1;36m[libx264 @ 0x125008e00] \u001B[0mi8c dc,h,v,p: 47% 35% 17%  1%\r\n",
      "\u001B[1;36m[libx264 @ 0x125008e00] \u001B[0mWeighted P-Frames: Y:0.0% UV:0.0%\r\n",
      "\u001B[1;36m[libx264 @ 0x125008e00] \u001B[0mref P L0: 50.7%  4.0% 25.6% 19.7%\r\n",
      "\u001B[1;36m[libx264 @ 0x125008e00] \u001B[0mref B L0: 61.6% 28.7%  9.7%\r\n",
      "\u001B[1;36m[libx264 @ 0x125008e00] \u001B[0mref B L1: 81.8% 18.2%\r\n",
      "\u001B[1;36m[libx264 @ 0x125008e00] \u001B[0mkb/s:869.91\r\n",
      "ffmpeg version 4.2.2 Copyright (c) 2000-2019 the FFmpeg developers\r\n",
      "  built with clang version 12.0.0\r\n",
      "  configuration: --prefix=/Users/ktietz/demo/mc3/conda-bld/ffmpeg_1628925491858/_h_env_placehold_placehold_placehold_placehold_placehold_placehold_placehold_placehold_placehold_placehold_placehold_placehold_placehold_placehold_placehold_placehold_placehold_placehold_placehold_plac --cc=arm64-apple-darwin20.0.0-clang --disable-doc --enable-avresample --enable-gmp --enable-hardcoded-tables --enable-libfreetype --enable-libvpx --enable-pthreads --enable-libopus --enable-postproc --enable-pic --enable-pthreads --enable-shared --enable-static --enable-version3 --enable-zlib --enable-libmp3lame --disable-nonfree --enable-gpl --enable-gnutls --disable-openssl --enable-libopenh264 --enable-libx264\r\n",
      "  libavutil      56. 31.100 / 56. 31.100\r\n",
      "  libavcodec     58. 54.100 / 58. 54.100\r\n",
      "  libavformat    58. 29.100 / 58. 29.100\r\n",
      "  libavdevice    58.  8.100 / 58.  8.100\r\n",
      "  libavfilter     7. 57.100 /  7. 57.100\r\n",
      "  libavresample   4.  0.  0 /  4.  0.  0\r\n",
      "  libswscale      5.  5.100 /  5.  5.100\r\n",
      "  libswresample   3.  5.100 /  3.  5.100\r\n",
      "  libpostproc    55.  5.100 / 55.  5.100\r\n",
      "Input #0, image2, from 'results/curve_animation/KGR_%d.png':\r\n",
      "  Duration: 00:01:40.04, start: 0.000000, bitrate: N/A\r\n",
      "    Stream #0:0: Video: png, rgba(pc), 995x743 [SAR 7874:7874 DAR 995:743], 25 fps, 25 tbr, 25 tbn, 25 tbc\r\n",
      "Stream mapping:\r\n",
      "  Stream #0:0 -> #0:0 (png (native) -> h264 (libx264))\r\n",
      "Press [q] to stop, [?] for help\r\n",
      "\u001B[1;36m[libx264 @ 0x12380e400] \u001B[0musing SAR=2930/2931\r\n",
      "\u001B[1;36m[libx264 @ 0x12380e400] \u001B[0musing cpu capabilities: ARMv8 NEON\r\n",
      "\u001B[1;36m[libx264 @ 0x12380e400] \u001B[0mprofile High, level 3.1\r\n",
      "\u001B[1;36m[libx264 @ 0x12380e400] \u001B[0m264 - core 152 - H.264/MPEG-4 AVC codec - Copyleft 2003-2017 - http://www.videolan.org/x264.html - options: cabac=1 ref=3 deblock=1:0:0 analyse=0x3:0x113 me=hex subme=7 psy=1 psy_rd=1.00:0.00 mixed_ref=1 me_range=16 chroma_me=1 trellis=1 8x8dct=1 cqm=0 deadzone=21,11 fast_pskip=1 chroma_qp_offset=-2 threads=12 lookahead_threads=2 sliced_threads=0 nr=0 decimate=1 interlaced=0 bluray_compat=0 constrained_intra=0 bframes=3 b_pyramid=2 b_adapt=1 b_bias=0 direct=1 weightb=1 open_gop=0 weightp=2 keyint=250 keyint_min=25 scenecut=40 intra_refresh=0 rc_lookahead=40 rc=crf mbtree=1 crf=23.0 qcomp=0.60 qpmin=0 qpmax=69 qpstep=4 ip_ratio=1.40 aq=1:1.00\r\n",
      "Output #0, mp4, to 'figs/KGR.mp4':\r\n",
      "  Metadata:\r\n",
      "    encoder         : Lavf58.29.100\r\n",
      "    Stream #0:0: Video: h264 (libx264) (avc1 / 0x31637661), yuv420p, 994x742 [SAR 52735:52753 DAR 995:743], q=-1--1, 25 fps, 12800 tbn, 25 tbc\r\n",
      "    Metadata:\r\n",
      "      encoder         : Lavc58.54.100 libx264\r\n",
      "    Side data:\r\n",
      "      cpb: bitrate max/min/avg: 0/0/0 buffer size: 0 vbv_delay: -1\r\n",
      "frame= 2501 fps=253 q=-1.0 Lsize=   10941kB time=00:01:39.92 bitrate= 897.0kbits/s speed=10.1x    \r\n",
      "video:10910kB audio:0kB subtitle:0kB other streams:0kB global headers:0kB muxing overhead: 0.277314%\r\n",
      "\u001B[1;36m[libx264 @ 0x12380e400] \u001B[0mframe I:11    Avg QP:16.15  size: 18315\r\n",
      "\u001B[1;36m[libx264 @ 0x12380e400] \u001B[0mframe P:632   Avg QP:24.77  size:  5426\r\n",
      "\u001B[1;36m[libx264 @ 0x12380e400] \u001B[0mframe B:1858  Avg QP:26.48  size:  4058\r\n",
      "\u001B[1;36m[libx264 @ 0x12380e400] \u001B[0mconsecutive B-frames:  0.8%  0.2%  0.2% 98.7%\r\n",
      "\u001B[1;36m[libx264 @ 0x12380e400] \u001B[0mmb I  I16..4: 43.9% 41.0% 15.1%\r\n",
      "\u001B[1;36m[libx264 @ 0x12380e400] \u001B[0mmb P  I16..4:  0.4%  1.2%  1.2%  P16..4:  6.9%  3.6%  1.6%  0.0%  0.0%    skip:85.1%\r\n",
      "\u001B[1;36m[libx264 @ 0x12380e400] \u001B[0mmb B  I16..4:  0.3%  0.2%  0.7%  B16..8:  7.8%  3.5%  0.8%  direct: 0.3%  skip:86.3%  L0:52.8% L1:43.6% BI: 3.6%\r\n",
      "\u001B[1;36m[libx264 @ 0x12380e400] \u001B[0m8x8 transform intra:32.2% inter:33.8%\r\n",
      "\u001B[1;36m[libx264 @ 0x12380e400] \u001B[0mcoded y,uvDC,uvAC intra: 35.1% 51.8% 50.3% inter: 2.6% 4.3% 3.8%\r\n",
      "\u001B[1;36m[libx264 @ 0x12380e400] \u001B[0mi16 v,h,dc,p: 61% 36%  3%  0%\r\n",
      "\u001B[1;36m[libx264 @ 0x12380e400] \u001B[0mi8 v,h,dc,ddl,ddr,vr,hd,vl,hu: 23%  8% 68%  0%  0%  0%  0%  0%  0%\r\n",
      "\u001B[1;36m[libx264 @ 0x12380e400] \u001B[0mi4 v,h,dc,ddl,ddr,vr,hd,vl,hu: 55% 25% 11%  1%  1%  1%  1%  1%  2%\r\n",
      "\u001B[1;36m[libx264 @ 0x12380e400] \u001B[0mi8c dc,h,v,p: 44% 37% 18%  1%\r\n",
      "\u001B[1;36m[libx264 @ 0x12380e400] \u001B[0mWeighted P-Frames: Y:0.0% UV:0.0%\r\n",
      "\u001B[1;36m[libx264 @ 0x12380e400] \u001B[0mref P L0: 49.5%  3.5% 27.4% 19.6%\r\n",
      "\u001B[1;36m[libx264 @ 0x12380e400] \u001B[0mref B L0: 61.1% 28.1% 10.8%\r\n",
      "\u001B[1;36m[libx264 @ 0x12380e400] \u001B[0mref B L1: 81.1% 18.9%\r\n",
      "\u001B[1;36m[libx264 @ 0x12380e400] \u001B[0mkb/s:893.36\r\n"
     ]
    }
   ],
   "source": [
    "# change to `True` to generate animations in ./figs/\n",
    "make_animations = False\n",
    "\n",
    "if make_animations:\n",
    "    train_animate(kgr=False, hidden_size=25, num_hidden_layers=2, seed=3)\n",
    "    ffmpeg_command = (f\"ffmpeg -i results/curve_animation/No_KGR_%d.png -c:v libx264 \" +  # noqa\n",
    "                      f\"-framerate 24 -vf \\'scale=trunc(iw/2)*2:trunc(ih/2)*2\\' \" +\n",
    "                      f\"-pix_fmt yuv420p -y figs/No_KGR.mp4\")\n",
    "    !{ffmpeg_command}\n",
    "\n",
    "    train_animate(kgr=True, hidden_size=25, num_hidden_layers=2, seed=3)\n",
    "    ffmpeg_command = (f\"ffmpeg -i results/curve_animation/KGR_%d.png -c:v libx264 \" +  # noqa\n",
    "                      f\"-framerate 24 -vf \\'scale=trunc(iw/2)*2:trunc(ih/2)*2\\' \" +\n",
    "                      f\"-pix_fmt yuv420p -y figs/KGR.mp4\")\n",
    "    !{ffmpeg_command}"
   ]
  },
  {
   "cell_type": "markdown",
   "source": [],
   "metadata": {
    "collapsed": false
   },
   "id": "29e3dfc49c79a7cb"
  },
  {
   "cell_type": "code",
   "execution_count": null,
   "outputs": [],
   "source": [],
   "metadata": {
    "collapsed": false,
    "ExecuteTime": {
     "start_time": "2024-10-15T18:44:43.915301Z"
    }
   },
   "id": "e9f2bcb0ed87365c"
  }
 ],
 "metadata": {
  "kernelspec": {
   "display_name": "Python 3 (ipykernel)",
   "language": "python",
   "name": "python3"
  },
  "language_info": {
   "codemirror_mode": {
    "name": "ipython",
    "version": 3
   },
   "file_extension": ".py",
   "mimetype": "text/x-python",
   "name": "python",
   "nbconvert_exporter": "python",
   "pygments_lexer": "ipython3",
   "version": "3.10.13"
  }
 },
 "nbformat": 4,
 "nbformat_minor": 5
}
